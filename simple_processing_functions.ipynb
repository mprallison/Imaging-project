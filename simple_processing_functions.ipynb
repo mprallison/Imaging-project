{
 "cells": [
  {
   "cell_type": "code",
   "execution_count": 1,
   "metadata": {},
   "outputs": [],
   "source": [
    "import skimage\n",
    "from skimage import io\n",
    "import matplotlib.pyplot as plt\n",
    "from mpl_toolkits.mplot3d import Axes3D\n",
    "import numpy as np\n",
    "import scipy\n",
    "import time\n",
    "import cv2\n",
    "import seaborn as sns"
   ]
  },
  {
   "cell_type": "code",
   "execution_count": 2,
   "metadata": {},
   "outputs": [],
   "source": [
    "#read image.tif as 3D matrix  (N colour channels X shape)\n",
    "\n",
    "with skimage.external.tifffile.TiffFile('test.tif') as tif:\n",
    "    data = tif.asarray()\n",
    "tif.close()"
   ]
  },
  {
   "cell_type": "code",
   "execution_count": 3,
   "metadata": {},
   "outputs": [],
   "source": [
    "def matrixViz(matrix):\n",
    "    '''display image matrix as coolwarm'''\n",
    "    plt.figure(figsize=(10,10))\n",
    "    plt.imshow(matrix,cmap = 'coolwarm')\n",
    "    plt.colorbar()\n",
    "\n",
    "\n",
    "def flattenMatrix(matrix):\n",
    "    '''flatten 2D matrix values to X,Y,Z arrays for generating viz'''\n",
    "    YY,XX = np.meshgrid(np.arange(matrix.shape[0]),np.arange(matrix.shape[1]))\n",
    "\n",
    "    coor_matrix = np.vstack((XX.ravel(),YY.ravel(),matrix.ravel())).T\n",
    "\n",
    "    x = coor_matrix[:,0]\n",
    "    y = coor_matrix[:,1]\n",
    "    z = coor_matrix[:,2]\n",
    "    return (x,y,z)\n",
    "\n",
    "\n",
    "def threeDViz(matrix):\n",
    "    '''display 3d viz of matrix where z = pixel value'''\n",
    "    coordinates = flattenMatrix(matrix)\n",
    "    x,y,z = coordinates[0],coordinates[1],coordinates[2]\n",
    "\n",
    "    fig = plt.figure(figsize=(12,12))\n",
    "    ax = fig.add_subplot(111, projection='3d')\n",
    "    pnt3d=ax.scatter(x,y,z,c=z, cmap = 'coolwarm',s=12)\n",
    "    cbar=plt.colorbar(pnt3d)\n",
    "    plt.xlabel('X axis')\n",
    "    plt.ylabel('Y axis')\n",
    "    cbar.set_label(\"pixel value\")                 \n",
    "    plt.show() \n",
    "            \n",
    "    \n",
    "def floorValues(matrix,floor_to_zero,floor_difference):\n",
    "    '''floor pixel values below threshold to zero and floor values to discrete intervals \n",
    "    as factors of floor_difference'''\n",
    "    \n",
    "    floor_max = 0\n",
    "    while floor_max <= matrix.max() - floor_difference:\n",
    "        floor_max = floor_max + floor_difference\n",
    "    \n",
    "    matrix[matrix < floor_to_zero] = 0\n",
    "    matrix[matrix > floor_max] = floor_max\n",
    "    \n",
    "    upper_bound = floor_max\n",
    "    lower_bound = floor_max - floor_difference\n",
    "    \n",
    "\n",
    "    while upper_bound > floor_to_zero:\n",
    "        matrix[(matrix >= lower_bound) & (matrix < upper_bound)] = lower_bound\n",
    "        lower_bound -= floor_difference\n",
    "        upper_bound -= floor_difference\n",
    "    \n",
    "    return matrix"
   ]
  },
  {
   "cell_type": "code",
   "execution_count": 4,
   "metadata": {},
   "outputs": [],
   "source": [
    "threshold = 30000"
   ]
  },
  {
   "cell_type": "code",
   "execution_count": 5,
   "metadata": {},
   "outputs": [],
   "source": [
    "data = floorValues(data,threshold,1000)"
   ]
  },
  {
   "cell_type": "code",
   "execution_count": 10,
   "metadata": {},
   "outputs": [
    {
     "data": {
      "text/plain": [
       "65000"
      ]
     },
     "execution_count": 10,
     "metadata": {},
     "output_type": "execute_result"
    }
   ],
   "source": [
    "data.max()"
   ]
  },
  {
   "cell_type": "code",
   "execution_count": 66,
   "metadata": {},
   "outputs": [],
   "source": [
    "mat1 = data[0][824:,:200]\n",
    "mat2 = data[1][824:,:200]\n",
    "mat3 = data[2][824:,:200]"
   ]
  },
  {
   "cell_type": "code",
   "execution_count": 67,
   "metadata": {},
   "outputs": [],
   "source": [
    "blue = flattenMatrix(mat1)[2]\n",
    "red = flattenMatrix(mat2)[2]\n",
    "green = flattenMatrix(mat3)[2]"
   ]
  },
  {
   "cell_type": "code",
   "execution_count": 72,
   "metadata": {},
   "outputs": [
    {
     "data": {
      "image/png": "[encoded data removed]",
      "text/plain": [
       "<Figure size 720x720 with 1 Axes>"
      ]
     },
     "metadata": {
      "needs_background": "light"
     },
     "output_type": "display_data"
    }
   ],
   "source": [
    "fig = plt.figure(figsize=(10,10))\n",
    "bins = np.linspace(threshold, data.max(), 65)\n",
    "plt.xlim([threshold, data.max()])\n",
    "\n",
    "\n",
    "ax1 = sns.distplot(blue, bins, kde=False, hist_kws={\"rwidth\":0.5,'color':'b', 'alpha':0.5})\n",
    "#ax2 = sns.distplot(red, bins, kde=False, hist_kws={\"rwidth\":0.5,'color':'r', 'alpha':0.5})\n",
    "ax3 = sns.distplot(green, bins, kde=False, hist_kws={\"rwidth\":0.5,'color':'g', 'alpha':0.5})\n",
    "\n",
    "plt.show()"
   ]
  }
 ],
 "metadata": {
  "kernelspec": {
   "display_name": "Python 3",
   "language": "python",
   "name": "python3"
  },
  "language_info": {
   "codemirror_mode": {
    "name": "ipython",
    "version": 3
   },
   "file_extension": ".py",
   "mimetype": "text/x-python",
   "name": "python",
   "nbconvert_exporter": "python",
   "pygments_lexer": "ipython3",
   "version": "3.6.6"
  }
 },
 "nbformat": 4,
 "nbformat_minor": 4
}
